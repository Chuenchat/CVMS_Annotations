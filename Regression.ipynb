{
  "nbformat": 4,
  "nbformat_minor": 0,
  "metadata": {
    "colab": {
      "provenance": [],
      "collapsed_sections": [],
      "include_colab_link": true
    },
    "kernelspec": {
      "name": "python3",
      "display_name": "Python 3"
    },
    "language_info": {
      "name": "python"
    },
    "widgets": {
      "application/vnd.jupyter.widget-state+json": {
        "a085019329154c38b906021354a97cb9": {
          "model_module": "@jupyter-widgets/controls",
          "model_name": "VBoxModel",
          "model_module_version": "1.5.0",
          "state": {
            "_dom_classes": [
              "widget-interact"
            ],
            "_model_module": "@jupyter-widgets/controls",
            "_model_module_version": "1.5.0",
            "_model_name": "VBoxModel",
            "_view_count": null,
            "_view_module": "@jupyter-widgets/controls",
            "_view_module_version": "1.5.0",
            "_view_name": "VBoxView",
            "box_style": "",
            "children": [
              "IPY_MODEL_288cf977214a4674950a5b2b0a008203",
              "IPY_MODEL_ed34c268a74244faa413d90aa323200b",
              "IPY_MODEL_48c8c8e6d5fc4f02a494c90391875fb9"
            ],
            "layout": "IPY_MODEL_e36b2a088a2943d6a778e728755d1215"
          }
        },
        "288cf977214a4674950a5b2b0a008203": {
          "model_module": "@jupyter-widgets/controls",
          "model_name": "FloatSliderModel",
          "model_module_version": "1.5.0",
          "state": {
            "_dom_classes": [],
            "_model_module": "@jupyter-widgets/controls",
            "_model_module_version": "1.5.0",
            "_model_name": "FloatSliderModel",
            "_view_count": null,
            "_view_module": "@jupyter-widgets/controls",
            "_view_module_version": "1.5.0",
            "_view_name": "FloatSliderView",
            "continuous_update": true,
            "description": "w",
            "description_tooltip": null,
            "disabled": false,
            "layout": "IPY_MODEL_5dab45203547421db37122ca003998f1",
            "max": 2,
            "min": -2,
            "orientation": "horizontal",
            "readout": true,
            "readout_format": ".2f",
            "step": 0.1,
            "style": "IPY_MODEL_303b2e9a96ea4bee9ce880a43714bb86",
            "value": 0
          }
        },
        "ed34c268a74244faa413d90aa323200b": {
          "model_module": "@jupyter-widgets/controls",
          "model_name": "FloatSliderModel",
          "model_module_version": "1.5.0",
          "state": {
            "_dom_classes": [],
            "_model_module": "@jupyter-widgets/controls",
            "_model_module_version": "1.5.0",
            "_model_name": "FloatSliderModel",
            "_view_count": null,
            "_view_module": "@jupyter-widgets/controls",
            "_view_module_version": "1.5.0",
            "_view_name": "FloatSliderView",
            "continuous_update": true,
            "description": "b",
            "description_tooltip": null,
            "disabled": false,
            "layout": "IPY_MODEL_810bb53ddc2c4a2bb1eb385c81da6feb",
            "max": 2,
            "min": -2,
            "orientation": "horizontal",
            "readout": true,
            "readout_format": ".2f",
            "step": 0.1,
            "style": "IPY_MODEL_e09d01798ded41a38920d1e9a1451ca4",
            "value": 0
          }
        },
        "48c8c8e6d5fc4f02a494c90391875fb9": {
          "model_module": "@jupyter-widgets/output",
          "model_name": "OutputModel",
          "model_module_version": "1.0.0",
          "state": {
            "_dom_classes": [],
            "_model_module": "@jupyter-widgets/output",
            "_model_module_version": "1.0.0",
            "_model_name": "OutputModel",
            "_view_count": null,
            "_view_module": "@jupyter-widgets/output",
            "_view_module_version": "1.0.0",
            "_view_name": "OutputView",
            "layout": "IPY_MODEL_3d463df54e8d49529940178534af64c1",
            "msg_id": "",
            "outputs": [
              {
                "output_type": "display_data",
                "data": {
                  "text/plain": "<Figure size 432x288 with 1 Axes>",
                  "image/png": "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\n"
                },
                "metadata": {
                  "image/png": {
                    "width": 398,
                    "height": 252
                  },
                  "needs_background": "light"
                }
              }
            ]
          }
        },
        "e36b2a088a2943d6a778e728755d1215": {
          "model_module": "@jupyter-widgets/base",
          "model_name": "LayoutModel",
          "model_module_version": "1.2.0",
          "state": {
            "_model_module": "@jupyter-widgets/base",
            "_model_module_version": "1.2.0",
            "_model_name": "LayoutModel",
            "_view_count": null,
            "_view_module": "@jupyter-widgets/base",
            "_view_module_version": "1.2.0",
            "_view_name": "LayoutView",
            "align_content": null,
            "align_items": null,
            "align_self": null,
            "border": null,
            "bottom": null,
            "display": null,
            "flex": null,
            "flex_flow": null,
            "grid_area": null,
            "grid_auto_columns": null,
            "grid_auto_flow": null,
            "grid_auto_rows": null,
            "grid_column": null,
            "grid_gap": null,
            "grid_row": null,
            "grid_template_areas": null,
            "grid_template_columns": null,
            "grid_template_rows": null,
            "height": null,
            "justify_content": null,
            "justify_items": null,
            "left": null,
            "margin": null,
            "max_height": null,
            "max_width": null,
            "min_height": null,
            "min_width": null,
            "object_fit": null,
            "object_position": null,
            "order": null,
            "overflow": null,
            "overflow_x": null,
            "overflow_y": null,
            "padding": null,
            "right": null,
            "top": null,
            "visibility": null,
            "width": null
          }
        },
        "5dab45203547421db37122ca003998f1": {
          "model_module": "@jupyter-widgets/base",
          "model_name": "LayoutModel",
          "model_module_version": "1.2.0",
          "state": {
            "_model_module": "@jupyter-widgets/base",
            "_model_module_version": "1.2.0",
            "_model_name": "LayoutModel",
            "_view_count": null,
            "_view_module": "@jupyter-widgets/base",
            "_view_module_version": "1.2.0",
            "_view_name": "LayoutView",
            "align_content": null,
            "align_items": null,
            "align_self": null,
            "border": null,
            "bottom": null,
            "display": null,
            "flex": null,
            "flex_flow": null,
            "grid_area": null,
            "grid_auto_columns": null,
            "grid_auto_flow": null,
            "grid_auto_rows": null,
            "grid_column": null,
            "grid_gap": null,
            "grid_row": null,
            "grid_template_areas": null,
            "grid_template_columns": null,
            "grid_template_rows": null,
            "height": null,
            "justify_content": null,
            "justify_items": null,
            "left": null,
            "margin": null,
            "max_height": null,
            "max_width": null,
            "min_height": null,
            "min_width": null,
            "object_fit": null,
            "object_position": null,
            "order": null,
            "overflow": null,
            "overflow_x": null,
            "overflow_y": null,
            "padding": null,
            "right": null,
            "top": null,
            "visibility": null,
            "width": null
          }
        },
        "303b2e9a96ea4bee9ce880a43714bb86": {
          "model_module": "@jupyter-widgets/controls",
          "model_name": "SliderStyleModel",
          "model_module_version": "1.5.0",
          "state": {
            "_model_module": "@jupyter-widgets/controls",
            "_model_module_version": "1.5.0",
            "_model_name": "SliderStyleModel",
            "_view_count": null,
            "_view_module": "@jupyter-widgets/base",
            "_view_module_version": "1.2.0",
            "_view_name": "StyleView",
            "description_width": "",
            "handle_color": null
          }
        },
        "810bb53ddc2c4a2bb1eb385c81da6feb": {
          "model_module": "@jupyter-widgets/base",
          "model_name": "LayoutModel",
          "model_module_version": "1.2.0",
          "state": {
            "_model_module": "@jupyter-widgets/base",
            "_model_module_version": "1.2.0",
            "_model_name": "LayoutModel",
            "_view_count": null,
            "_view_module": "@jupyter-widgets/base",
            "_view_module_version": "1.2.0",
            "_view_name": "LayoutView",
            "align_content": null,
            "align_items": null,
            "align_self": null,
            "border": null,
            "bottom": null,
            "display": null,
            "flex": null,
            "flex_flow": null,
            "grid_area": null,
            "grid_auto_columns": null,
            "grid_auto_flow": null,
            "grid_auto_rows": null,
            "grid_column": null,
            "grid_gap": null,
            "grid_row": null,
            "grid_template_areas": null,
            "grid_template_columns": null,
            "grid_template_rows": null,
            "height": null,
            "justify_content": null,
            "justify_items": null,
            "left": null,
            "margin": null,
            "max_height": null,
            "max_width": null,
            "min_height": null,
            "min_width": null,
            "object_fit": null,
            "object_position": null,
            "order": null,
            "overflow": null,
            "overflow_x": null,
            "overflow_y": null,
            "padding": null,
            "right": null,
            "top": null,
            "visibility": null,
            "width": null
          }
        },
        "e09d01798ded41a38920d1e9a1451ca4": {
          "model_module": "@jupyter-widgets/controls",
          "model_name": "SliderStyleModel",
          "model_module_version": "1.5.0",
          "state": {
            "_model_module": "@jupyter-widgets/controls",
            "_model_module_version": "1.5.0",
            "_model_name": "SliderStyleModel",
            "_view_count": null,
            "_view_module": "@jupyter-widgets/base",
            "_view_module_version": "1.2.0",
            "_view_name": "StyleView",
            "description_width": "",
            "handle_color": null
          }
        },
        "3d463df54e8d49529940178534af64c1": {
          "model_module": "@jupyter-widgets/base",
          "model_name": "LayoutModel",
          "model_module_version": "1.2.0",
          "state": {
            "_model_module": "@jupyter-widgets/base",
            "_model_module_version": "1.2.0",
            "_model_name": "LayoutModel",
            "_view_count": null,
            "_view_module": "@jupyter-widgets/base",
            "_view_module_version": "1.2.0",
            "_view_name": "LayoutView",
            "align_content": null,
            "align_items": null,
            "align_self": null,
            "border": null,
            "bottom": null,
            "display": null,
            "flex": null,
            "flex_flow": null,
            "grid_area": null,
            "grid_auto_columns": null,
            "grid_auto_flow": null,
            "grid_auto_rows": null,
            "grid_column": null,
            "grid_gap": null,
            "grid_row": null,
            "grid_template_areas": null,
            "grid_template_columns": null,
            "grid_template_rows": null,
            "height": null,
            "justify_content": null,
            "justify_items": null,
            "left": null,
            "margin": null,
            "max_height": null,
            "max_width": null,
            "min_height": null,
            "min_width": null,
            "object_fit": null,
            "object_position": null,
            "order": null,
            "overflow": null,
            "overflow_x": null,
            "overflow_y": null,
            "padding": null,
            "right": null,
            "top": null,
            "visibility": null,
            "width": null
          }
        },
        "a0d34f9cd6ac4535bafa0c64388391c8": {
          "model_module": "@jupyter-widgets/controls",
          "model_name": "VBoxModel",
          "model_module_version": "1.5.0",
          "state": {
            "_dom_classes": [
              "widget-interact"
            ],
            "_model_module": "@jupyter-widgets/controls",
            "_model_module_version": "1.5.0",
            "_model_name": "VBoxModel",
            "_view_count": null,
            "_view_module": "@jupyter-widgets/controls",
            "_view_module_version": "1.5.0",
            "_view_name": "VBoxView",
            "box_style": "",
            "children": [
              "IPY_MODEL_61df64163e10427ba9bdd6a1e4acd45b",
              "IPY_MODEL_1cc9195bb7c14bc5a052211e47ca4a63",
              "IPY_MODEL_f9a7fcd144d74aa9a26065f157e30659"
            ],
            "layout": "IPY_MODEL_bfce8aa887de46d88089b4902f888ecb"
          }
        },
        "61df64163e10427ba9bdd6a1e4acd45b": {
          "model_module": "@jupyter-widgets/controls",
          "model_name": "FloatSliderModel",
          "model_module_version": "1.5.0",
          "state": {
            "_dom_classes": [],
            "_model_module": "@jupyter-widgets/controls",
            "_model_module_version": "1.5.0",
            "_model_name": "FloatSliderModel",
            "_view_count": null,
            "_view_module": "@jupyter-widgets/controls",
            "_view_module_version": "1.5.0",
            "_view_name": "FloatSliderView",
            "continuous_update": true,
            "description": "w",
            "description_tooltip": null,
            "disabled": false,
            "layout": "IPY_MODEL_151c0d2d6f2b4c6cabd86fd77cbee3d3",
            "max": 10,
            "min": -10,
            "orientation": "horizontal",
            "readout": true,
            "readout_format": ".2f",
            "step": 0.1,
            "style": "IPY_MODEL_fd265c54903d45e79e09345b22b708fa",
            "value": 1.4
          }
        },
        "1cc9195bb7c14bc5a052211e47ca4a63": {
          "model_module": "@jupyter-widgets/controls",
          "model_name": "FloatSliderModel",
          "model_module_version": "1.5.0",
          "state": {
            "_dom_classes": [],
            "_model_module": "@jupyter-widgets/controls",
            "_model_module_version": "1.5.0",
            "_model_name": "FloatSliderModel",
            "_view_count": null,
            "_view_module": "@jupyter-widgets/controls",
            "_view_module_version": "1.5.0",
            "_view_name": "FloatSliderView",
            "continuous_update": true,
            "description": "b",
            "description_tooltip": null,
            "disabled": false,
            "layout": "IPY_MODEL_5eddec9e0ea7487186b606a2cbc66020",
            "max": 30,
            "min": -10,
            "orientation": "horizontal",
            "readout": true,
            "readout_format": ".2f",
            "step": 0.1,
            "style": "IPY_MODEL_9d3ebe858e97486e87dff81c29a96f6f",
            "value": 18.7
          }
        },
        "f9a7fcd144d74aa9a26065f157e30659": {
          "model_module": "@jupyter-widgets/output",
          "model_name": "OutputModel",
          "model_module_version": "1.0.0",
          "state": {
            "_dom_classes": [],
            "_model_module": "@jupyter-widgets/output",
            "_model_module_version": "1.0.0",
            "_model_name": "OutputModel",
            "_view_count": null,
            "_view_module": "@jupyter-widgets/output",
            "_view_module_version": "1.0.0",
            "_view_name": "OutputView",
            "layout": "IPY_MODEL_2f5f6de17d02459684765846f52ef826",
            "msg_id": "",
            "outputs": [
              {
                "output_type": "display_data",
                "data": {
                  "text/plain": "<Figure size 432x288 with 1 Axes>",
                  "image/png": "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\n"
                },
                "metadata": {
                  "image/png": {
                    "width": 382,
                    "height": 277
                  },
                  "needs_background": "light"
                }
              }
            ]
          }
        },
        "bfce8aa887de46d88089b4902f888ecb": {
          "model_module": "@jupyter-widgets/base",
          "model_name": "LayoutModel",
          "model_module_version": "1.2.0",
          "state": {
            "_model_module": "@jupyter-widgets/base",
            "_model_module_version": "1.2.0",
            "_model_name": "LayoutModel",
            "_view_count": null,
            "_view_module": "@jupyter-widgets/base",
            "_view_module_version": "1.2.0",
            "_view_name": "LayoutView",
            "align_content": null,
            "align_items": null,
            "align_self": null,
            "border": null,
            "bottom": null,
            "display": null,
            "flex": null,
            "flex_flow": null,
            "grid_area": null,
            "grid_auto_columns": null,
            "grid_auto_flow": null,
            "grid_auto_rows": null,
            "grid_column": null,
            "grid_gap": null,
            "grid_row": null,
            "grid_template_areas": null,
            "grid_template_columns": null,
            "grid_template_rows": null,
            "height": null,
            "justify_content": null,
            "justify_items": null,
            "left": null,
            "margin": null,
            "max_height": null,
            "max_width": null,
            "min_height": null,
            "min_width": null,
            "object_fit": null,
            "object_position": null,
            "order": null,
            "overflow": null,
            "overflow_x": null,
            "overflow_y": null,
            "padding": null,
            "right": null,
            "top": null,
            "visibility": null,
            "width": null
          }
        },
        "151c0d2d6f2b4c6cabd86fd77cbee3d3": {
          "model_module": "@jupyter-widgets/base",
          "model_name": "LayoutModel",
          "model_module_version": "1.2.0",
          "state": {
            "_model_module": "@jupyter-widgets/base",
            "_model_module_version": "1.2.0",
            "_model_name": "LayoutModel",
            "_view_count": null,
            "_view_module": "@jupyter-widgets/base",
            "_view_module_version": "1.2.0",
            "_view_name": "LayoutView",
            "align_content": null,
            "align_items": null,
            "align_self": null,
            "border": null,
            "bottom": null,
            "display": null,
            "flex": null,
            "flex_flow": null,
            "grid_area": null,
            "grid_auto_columns": null,
            "grid_auto_flow": null,
            "grid_auto_rows": null,
            "grid_column": null,
            "grid_gap": null,
            "grid_row": null,
            "grid_template_areas": null,
            "grid_template_columns": null,
            "grid_template_rows": null,
            "height": null,
            "justify_content": null,
            "justify_items": null,
            "left": null,
            "margin": null,
            "max_height": null,
            "max_width": null,
            "min_height": null,
            "min_width": null,
            "object_fit": null,
            "object_position": null,
            "order": null,
            "overflow": null,
            "overflow_x": null,
            "overflow_y": null,
            "padding": null,
            "right": null,
            "top": null,
            "visibility": null,
            "width": null
          }
        },
        "fd265c54903d45e79e09345b22b708fa": {
          "model_module": "@jupyter-widgets/controls",
          "model_name": "SliderStyleModel",
          "model_module_version": "1.5.0",
          "state": {
            "_model_module": "@jupyter-widgets/controls",
            "_model_module_version": "1.5.0",
            "_model_name": "SliderStyleModel",
            "_view_count": null,
            "_view_module": "@jupyter-widgets/base",
            "_view_module_version": "1.2.0",
            "_view_name": "StyleView",
            "description_width": "",
            "handle_color": null
          }
        },
        "5eddec9e0ea7487186b606a2cbc66020": {
          "model_module": "@jupyter-widgets/base",
          "model_name": "LayoutModel",
          "model_module_version": "1.2.0",
          "state": {
            "_model_module": "@jupyter-widgets/base",
            "_model_module_version": "1.2.0",
            "_model_name": "LayoutModel",
            "_view_count": null,
            "_view_module": "@jupyter-widgets/base",
            "_view_module_version": "1.2.0",
            "_view_name": "LayoutView",
            "align_content": null,
            "align_items": null,
            "align_self": null,
            "border": null,
            "bottom": null,
            "display": null,
            "flex": null,
            "flex_flow": null,
            "grid_area": null,
            "grid_auto_columns": null,
            "grid_auto_flow": null,
            "grid_auto_rows": null,
            "grid_column": null,
            "grid_gap": null,
            "grid_row": null,
            "grid_template_areas": null,
            "grid_template_columns": null,
            "grid_template_rows": null,
            "height": null,
            "justify_content": null,
            "justify_items": null,
            "left": null,
            "margin": null,
            "max_height": null,
            "max_width": null,
            "min_height": null,
            "min_width": null,
            "object_fit": null,
            "object_position": null,
            "order": null,
            "overflow": null,
            "overflow_x": null,
            "overflow_y": null,
            "padding": null,
            "right": null,
            "top": null,
            "visibility": null,
            "width": null
          }
        },
        "9d3ebe858e97486e87dff81c29a96f6f": {
          "model_module": "@jupyter-widgets/controls",
          "model_name": "SliderStyleModel",
          "model_module_version": "1.5.0",
          "state": {
            "_model_module": "@jupyter-widgets/controls",
            "_model_module_version": "1.5.0",
            "_model_name": "SliderStyleModel",
            "_view_count": null,
            "_view_module": "@jupyter-widgets/base",
            "_view_module_version": "1.2.0",
            "_view_name": "StyleView",
            "description_width": "",
            "handle_color": null
          }
        },
        "2f5f6de17d02459684765846f52ef826": {
          "model_module": "@jupyter-widgets/base",
          "model_name": "LayoutModel",
          "model_module_version": "1.2.0",
          "state": {
            "_model_module": "@jupyter-widgets/base",
            "_model_module_version": "1.2.0",
            "_model_name": "LayoutModel",
            "_view_count": null,
            "_view_module": "@jupyter-widgets/base",
            "_view_module_version": "1.2.0",
            "_view_name": "LayoutView",
            "align_content": null,
            "align_items": null,
            "align_self": null,
            "border": null,
            "bottom": null,
            "display": null,
            "flex": null,
            "flex_flow": null,
            "grid_area": null,
            "grid_auto_columns": null,
            "grid_auto_flow": null,
            "grid_auto_rows": null,
            "grid_column": null,
            "grid_gap": null,
            "grid_row": null,
            "grid_template_areas": null,
            "grid_template_columns": null,
            "grid_template_rows": null,
            "height": null,
            "justify_content": null,
            "justify_items": null,
            "left": null,
            "margin": null,
            "max_height": null,
            "max_width": null,
            "min_height": null,
            "min_width": null,
            "object_fit": null,
            "object_position": null,
            "order": null,
            "overflow": null,
            "overflow_x": null,
            "overflow_y": null,
            "padding": null,
            "right": null,
            "top": null,
            "visibility": null,
            "width": null
          }
        },
        "baa3fa0940d345dd9afe702b7b700799": {
          "model_module": "@jupyter-widgets/controls",
          "model_name": "VBoxModel",
          "model_module_version": "1.5.0",
          "state": {
            "_dom_classes": [
              "widget-interact"
            ],
            "_model_module": "@jupyter-widgets/controls",
            "_model_module_version": "1.5.0",
            "_model_name": "VBoxModel",
            "_view_count": null,
            "_view_module": "@jupyter-widgets/controls",
            "_view_module_version": "1.5.0",
            "_view_name": "VBoxView",
            "box_style": "",
            "children": [
              "IPY_MODEL_a12af39550b54deeb34b84a178122d5f",
              "IPY_MODEL_d23cdb75e5ac4a4092a161d6c015fab8",
              "IPY_MODEL_dde831d134fe4584bc68e78d18db2413"
            ],
            "layout": "IPY_MODEL_34fdd4adc1db49c59dc38b16ce8bf9cc"
          }
        },
        "a12af39550b54deeb34b84a178122d5f": {
          "model_module": "@jupyter-widgets/controls",
          "model_name": "FloatSliderModel",
          "model_module_version": "1.5.0",
          "state": {
            "_dom_classes": [],
            "_model_module": "@jupyter-widgets/controls",
            "_model_module_version": "1.5.0",
            "_model_name": "FloatSliderModel",
            "_view_count": null,
            "_view_module": "@jupyter-widgets/controls",
            "_view_module_version": "1.5.0",
            "_view_name": "FloatSliderView",
            "continuous_update": true,
            "description": "w",
            "description_tooltip": null,
            "disabled": false,
            "layout": "IPY_MODEL_e3b85b9e41c74535a25bb0465ee6b806",
            "max": 10,
            "min": -10,
            "orientation": "horizontal",
            "readout": true,
            "readout_format": ".2f",
            "step": 0.1,
            "style": "IPY_MODEL_ae5311ac9150422baf39336725c6703c",
            "value": -3
          }
        },
        "d23cdb75e5ac4a4092a161d6c015fab8": {
          "model_module": "@jupyter-widgets/controls",
          "model_name": "FloatSliderModel",
          "model_module_version": "1.5.0",
          "state": {
            "_dom_classes": [],
            "_model_module": "@jupyter-widgets/controls",
            "_model_module_version": "1.5.0",
            "_model_name": "FloatSliderModel",
            "_view_count": null,
            "_view_module": "@jupyter-widgets/controls",
            "_view_module_version": "1.5.0",
            "_view_name": "FloatSliderView",
            "continuous_update": true,
            "description": "b",
            "description_tooltip": null,
            "disabled": false,
            "layout": "IPY_MODEL_15720d75f3c2478e9628522d40f3cabb",
            "max": 10,
            "min": -10,
            "orientation": "horizontal",
            "readout": true,
            "readout_format": ".2f",
            "step": 0.1,
            "style": "IPY_MODEL_1bd9636db66840ad8dd1fbb903904d7b",
            "value": 0
          }
        },
        "dde831d134fe4584bc68e78d18db2413": {
          "model_module": "@jupyter-widgets/output",
          "model_name": "OutputModel",
          "model_module_version": "1.0.0",
          "state": {
            "_dom_classes": [],
            "_model_module": "@jupyter-widgets/output",
            "_model_module_version": "1.0.0",
            "_model_name": "OutputModel",
            "_view_count": null,
            "_view_module": "@jupyter-widgets/output",
            "_view_module_version": "1.0.0",
            "_view_name": "OutputView",
            "layout": "IPY_MODEL_dd1d703a093b49828ef3198cf1243ca0",
            "msg_id": "",
            "outputs": [
              {
                "output_type": "display_data",
                "data": {
                  "text/plain": "<Figure size 432x288 with 1 Axes>",
                  "image/png": "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\n"
                },
                "metadata": {
                  "image/png": {
                    "width": 372,
                    "height": 263
                  },
                  "needs_background": "light"
                }
              }
            ]
          }
        },
        "34fdd4adc1db49c59dc38b16ce8bf9cc": {
          "model_module": "@jupyter-widgets/base",
          "model_name": "LayoutModel",
          "model_module_version": "1.2.0",
          "state": {
            "_model_module": "@jupyter-widgets/base",
            "_model_module_version": "1.2.0",
            "_model_name": "LayoutModel",
            "_view_count": null,
            "_view_module": "@jupyter-widgets/base",
            "_view_module_version": "1.2.0",
            "_view_name": "LayoutView",
            "align_content": null,
            "align_items": null,
            "align_self": null,
            "border": null,
            "bottom": null,
            "display": null,
            "flex": null,
            "flex_flow": null,
            "grid_area": null,
            "grid_auto_columns": null,
            "grid_auto_flow": null,
            "grid_auto_rows": null,
            "grid_column": null,
            "grid_gap": null,
            "grid_row": null,
            "grid_template_areas": null,
            "grid_template_columns": null,
            "grid_template_rows": null,
            "height": null,
            "justify_content": null,
            "justify_items": null,
            "left": null,
            "margin": null,
            "max_height": null,
            "max_width": null,
            "min_height": null,
            "min_width": null,
            "object_fit": null,
            "object_position": null,
            "order": null,
            "overflow": null,
            "overflow_x": null,
            "overflow_y": null,
            "padding": null,
            "right": null,
            "top": null,
            "visibility": null,
            "width": null
          }
        },
        "e3b85b9e41c74535a25bb0465ee6b806": {
          "model_module": "@jupyter-widgets/base",
          "model_name": "LayoutModel",
          "model_module_version": "1.2.0",
          "state": {
            "_model_module": "@jupyter-widgets/base",
            "_model_module_version": "1.2.0",
            "_model_name": "LayoutModel",
            "_view_count": null,
            "_view_module": "@jupyter-widgets/base",
            "_view_module_version": "1.2.0",
            "_view_name": "LayoutView",
            "align_content": null,
            "align_items": null,
            "align_self": null,
            "border": null,
            "bottom": null,
            "display": null,
            "flex": null,
            "flex_flow": null,
            "grid_area": null,
            "grid_auto_columns": null,
            "grid_auto_flow": null,
            "grid_auto_rows": null,
            "grid_column": null,
            "grid_gap": null,
            "grid_row": null,
            "grid_template_areas": null,
            "grid_template_columns": null,
            "grid_template_rows": null,
            "height": null,
            "justify_content": null,
            "justify_items": null,
            "left": null,
            "margin": null,
            "max_height": null,
            "max_width": null,
            "min_height": null,
            "min_width": null,
            "object_fit": null,
            "object_position": null,
            "order": null,
            "overflow": null,
            "overflow_x": null,
            "overflow_y": null,
            "padding": null,
            "right": null,
            "top": null,
            "visibility": null,
            "width": null
          }
        },
        "ae5311ac9150422baf39336725c6703c": {
          "model_module": "@jupyter-widgets/controls",
          "model_name": "SliderStyleModel",
          "model_module_version": "1.5.0",
          "state": {
            "_model_module": "@jupyter-widgets/controls",
            "_model_module_version": "1.5.0",
            "_model_name": "SliderStyleModel",
            "_view_count": null,
            "_view_module": "@jupyter-widgets/base",
            "_view_module_version": "1.2.0",
            "_view_name": "StyleView",
            "description_width": "",
            "handle_color": null
          }
        },
        "15720d75f3c2478e9628522d40f3cabb": {
          "model_module": "@jupyter-widgets/base",
          "model_name": "LayoutModel",
          "model_module_version": "1.2.0",
          "state": {
            "_model_module": "@jupyter-widgets/base",
            "_model_module_version": "1.2.0",
            "_model_name": "LayoutModel",
            "_view_count": null,
            "_view_module": "@jupyter-widgets/base",
            "_view_module_version": "1.2.0",
            "_view_name": "LayoutView",
            "align_content": null,
            "align_items": null,
            "align_self": null,
            "border": null,
            "bottom": null,
            "display": null,
            "flex": null,
            "flex_flow": null,
            "grid_area": null,
            "grid_auto_columns": null,
            "grid_auto_flow": null,
            "grid_auto_rows": null,
            "grid_column": null,
            "grid_gap": null,
            "grid_row": null,
            "grid_template_areas": null,
            "grid_template_columns": null,
            "grid_template_rows": null,
            "height": null,
            "justify_content": null,
            "justify_items": null,
            "left": null,
            "margin": null,
            "max_height": null,
            "max_width": null,
            "min_height": null,
            "min_width": null,
            "object_fit": null,
            "object_position": null,
            "order": null,
            "overflow": null,
            "overflow_x": null,
            "overflow_y": null,
            "padding": null,
            "right": null,
            "top": null,
            "visibility": null,
            "width": null
          }
        },
        "1bd9636db66840ad8dd1fbb903904d7b": {
          "model_module": "@jupyter-widgets/controls",
          "model_name": "SliderStyleModel",
          "model_module_version": "1.5.0",
          "state": {
            "_model_module": "@jupyter-widgets/controls",
            "_model_module_version": "1.5.0",
            "_model_name": "SliderStyleModel",
            "_view_count": null,
            "_view_module": "@jupyter-widgets/base",
            "_view_module_version": "1.2.0",
            "_view_name": "StyleView",
            "description_width": "",
            "handle_color": null
          }
        },
        "dd1d703a093b49828ef3198cf1243ca0": {
          "model_module": "@jupyter-widgets/base",
          "model_name": "LayoutModel",
          "model_module_version": "1.2.0",
          "state": {
            "_model_module": "@jupyter-widgets/base",
            "_model_module_version": "1.2.0",
            "_model_name": "LayoutModel",
            "_view_count": null,
            "_view_module": "@jupyter-widgets/base",
            "_view_module_version": "1.2.0",
            "_view_name": "LayoutView",
            "align_content": null,
            "align_items": null,
            "align_self": null,
            "border": null,
            "bottom": null,
            "display": null,
            "flex": null,
            "flex_flow": null,
            "grid_area": null,
            "grid_auto_columns": null,
            "grid_auto_flow": null,
            "grid_auto_rows": null,
            "grid_column": null,
            "grid_gap": null,
            "grid_row": null,
            "grid_template_areas": null,
            "grid_template_columns": null,
            "grid_template_rows": null,
            "height": null,
            "justify_content": null,
            "justify_items": null,
            "left": null,
            "margin": null,
            "max_height": null,
            "max_width": null,
            "min_height": null,
            "min_width": null,
            "object_fit": null,
            "object_position": null,
            "order": null,
            "overflow": null,
            "overflow_x": null,
            "overflow_y": null,
            "padding": null,
            "right": null,
            "top": null,
            "visibility": null,
            "width": null
          }
        }
      }
    }
  },
  "cells": [
    {
      "cell_type": "markdown",
      "metadata": {
        "id": "view-in-github",
        "colab_type": "text"
      },
      "source": [
        "<a href=\"https://colab.research.google.com/github/Chuenchat/CVMS_Annotations/blob/master/Regression.ipynb\" target=\"_parent\"><img src=\"https://colab.research.google.com/assets/colab-badge.svg\" alt=\"Open In Colab\"/></a>"
      ]
    },
    {
      "cell_type": "code",
      "source": [
        "#@title Depencies\n",
        "\n",
        "%load_ext autoreload\n",
        "%autoreload 2\n",
        "%matplotlib inline\n",
        "%config InlineBackend.figure_format = 'retina'\n",
        "\n",
        "import pandas as pd\n",
        "import numpy as np\n",
        "import matplotlib.pyplot as plt\n",
        "from matplotlib import cm\n",
        "from matplotlib.ticker import LinearLocator\n",
        "from IPython.display import display\n",
        "from ipywidgets import interact, FloatSlider, Button\n",
        "import seaborn as sns\n",
        "import numpy.random as npr\n"
      ],
      "metadata": {
        "id": "_XWGNmSZJt57"
      },
      "execution_count": null,
      "outputs": []
    },
    {
      "cell_type": "markdown",
      "source": [
        "AND GATE"
      ],
      "metadata": {
        "id": "weJYuHUfab-o"
      }
    },
    {
      "cell_type": "code",
      "source": [
        "x1 = [1]\n",
        "y1 = [1]\n",
        "x2 = [0, 0, 1]\n",
        "y2 = [0, 1, 0]\n",
        "\n",
        "@interact(w=FloatSlider(value=0, min=-2, max=2), b=FloatSlider(value=0, min=-2, max=2))\n",
        "def plot_model(w, b):\n",
        "  x = np.linspace(-0.5, 1.5, 100)\n",
        "  y = w * x + b\n",
        "  plt.xlim(-0.5, 1.5)\n",
        "  plt.ylim(-0.5, 1.5)\n",
        "  plt.plot(x, y)\n",
        "  plt.grid()\n",
        "  plt.scatter(x1, y1, c=\"red\", s=200)\n",
        "  plt.scatter(x2, y2, c=\"blue\", s=200)\n",
        "  plt.show()"
      ],
      "metadata": {
        "id": "ih4MaZE_aprW",
        "outputId": "4a002a80-ace9-4ee7-e134-6b47cff8b0d6",
        "colab": {
          "base_uri": "https://localhost:8080/",
          "height": 333,
          "referenced_widgets": [
            "a085019329154c38b906021354a97cb9",
            "288cf977214a4674950a5b2b0a008203",
            "ed34c268a74244faa413d90aa323200b",
            "48c8c8e6d5fc4f02a494c90391875fb9",
            "e36b2a088a2943d6a778e728755d1215",
            "5dab45203547421db37122ca003998f1",
            "303b2e9a96ea4bee9ce880a43714bb86",
            "810bb53ddc2c4a2bb1eb385c81da6feb",
            "e09d01798ded41a38920d1e9a1451ca4",
            "3d463df54e8d49529940178534af64c1"
          ]
        }
      },
      "execution_count": null,
      "outputs": [
        {
          "output_type": "display_data",
          "data": {
            "text/plain": [
              "interactive(children=(FloatSlider(value=0.0, description='w', max=2.0, min=-2.0), FloatSlider(value=0.0, descr…"
            ],
            "application/vnd.jupyter.widget-view+json": {
              "version_major": 2,
              "version_minor": 0,
              "model_id": "a085019329154c38b906021354a97cb9"
            }
          },
          "metadata": {}
        }
      ]
    },
    {
      "cell_type": "code",
      "execution_count": null,
      "metadata": {
        "colab": {
          "base_uri": "https://localhost:8080/",
          "height": 358,
          "referenced_widgets": [
            "a0d34f9cd6ac4535bafa0c64388391c8",
            "61df64163e10427ba9bdd6a1e4acd45b",
            "1cc9195bb7c14bc5a052211e47ca4a63",
            "f9a7fcd144d74aa9a26065f157e30659",
            "bfce8aa887de46d88089b4902f888ecb",
            "151c0d2d6f2b4c6cabd86fd77cbee3d3",
            "fd265c54903d45e79e09345b22b708fa",
            "5eddec9e0ea7487186b606a2cbc66020",
            "9d3ebe858e97486e87dff81c29a96f6f",
            "2f5f6de17d02459684765846f52ef826"
          ]
        },
        "id": "tb5NPYaaJEiq",
        "outputId": "6dfd37e9-9615-4697-9cc9-5280211513fe"
      },
      "outputs": [
        {
          "output_type": "display_data",
          "data": {
            "text/plain": [
              "interactive(children=(FloatSlider(value=0.0, description='w', max=10.0, min=-10.0), FloatSlider(value=0.0, des…"
            ],
            "application/vnd.jupyter.widget-view+json": {
              "version_major": 2,
              "version_minor": 0,
              "model_id": "a0d34f9cd6ac4535bafa0c64388391c8"
            }
          },
          "metadata": {}
        }
      ],
      "source": [
        "#@title Linear\n",
        "\n",
        "w_true = 2\n",
        "b_true = 20\n",
        "\n",
        "\n",
        "def mse(y_true: np.ndarray, y_pred: np.ndarray) -> float:\n",
        "    \"\"\"Mean squared error function.\"\"\"\n",
        "    return np.mean(np.power(y_true - y_pred, 2))\n",
        "\n",
        "def noise(n):\n",
        "    return npr.normal(0, 0.8, size=(n))\n",
        "\n",
        "def make_y(x, w_true, b_true):\n",
        "    return w_true * x + b_true + noise(len(x))\n",
        "\n",
        "x = np.linspace(-5, 5, 100)\n",
        "y = make_y(x, w_true, b_true)\n",
        "\n",
        "@interact(w=FloatSlider(value=0, min=-10, max=10), b=FloatSlider(value=0, min=-10, max=30))\n",
        "def plot_model(w, b):\n",
        "    y_est = w * x + b\n",
        "    plt.scatter(x, y)\n",
        "    plt.plot(x, y_est, color='red')\n",
        "    plt.title(f\"Mean Squared Error: {mse(y, y_est):.2f}\")\n",
        "    plt.xlabel('x', fontweight='bold')\n",
        "    plt.ylabel('y', fontweight='bold')\n",
        "    sns.despine()\n",
        "    plt.show()"
      ]
    },
    {
      "cell_type": "code",
      "source": [
        "#@title Find Weight and Bias\n",
        "# Ax = b\n",
        "_A = np.matrix([[_, 1] for _ in x])\n",
        "_b = np.matrix(y).T\n",
        "_x = np.linalg.inv(_A.T*_A)*_A.T*_b\n",
        "print(_x.T)"
      ],
      "metadata": {
        "colab": {
          "base_uri": "https://localhost:8080/"
        },
        "cellView": "form",
        "id": "NiqaCR7pKFCx",
        "outputId": "bf1df405-2f34-49bf-d103-c7625fb1d13e"
      },
      "execution_count": null,
      "outputs": [
        {
          "output_type": "stream",
          "name": "stdout",
          "text": [
            "[[ 1.97040182 20.12503819]]\n"
          ]
        }
      ]
    },
    {
      "cell_type": "code",
      "source": [
        "#@title Logistic\n",
        "\n",
        "def logistic(x):\n",
        "    \"\"\"Logistic transform.\"\"\"\n",
        "    return 1 / (1 + np.exp(-x))\n",
        "\n",
        "def binary_cross_entropy(y_true, y_preds):\n",
        "    \"\"\"Function for binary cross entropy.\"\"\"\n",
        "    return np.sum(\n",
        "        y_true * np.log(y_preds + 1e-5) + (1 - y_true) * np.log(1 - y_preds + 1e-5)\n",
        "    )\n",
        "\n",
        "x = np.linspace(-5, 5, 100)\n",
        "w = 2\n",
        "b = 1\n",
        "z = w * x + b + npr.random(size=len(x))\n",
        "y_true = np.round(logistic(z))\n",
        "class_0_inds = y_true == 0\n",
        "class_1_inds = y_true == 1\n",
        "\n",
        "@interact(w=FloatSlider(value=0, min=-10, max=10), b=FloatSlider(value=0, min=-10, max=10))\n",
        "def plot_logistic_model(w, b):\n",
        "    y_est = logistic(w * x + b)\n",
        "    plt.scatter(x[class_0_inds], y_true[class_0_inds], alpha=0.5, color='red', marker='x')\n",
        "    plt.scatter(x[class_1_inds], y_true[class_1_inds], alpha=0.5, color='green')\n",
        "    plt.plot(x, y_est, color='blue')\n",
        "    plt.title(f\"Cross Entropy: {binary_cross_entropy(y_true, y_est):.2f}\")\n",
        "    sns.despine()\n",
        "    plt.show()"
      ],
      "metadata": {
        "colab": {
          "base_uri": "https://localhost:8080/",
          "height": 344,
          "referenced_widgets": [
            "baa3fa0940d345dd9afe702b7b700799",
            "a12af39550b54deeb34b84a178122d5f",
            "d23cdb75e5ac4a4092a161d6c015fab8",
            "dde831d134fe4584bc68e78d18db2413",
            "34fdd4adc1db49c59dc38b16ce8bf9cc",
            "e3b85b9e41c74535a25bb0465ee6b806",
            "ae5311ac9150422baf39336725c6703c",
            "15720d75f3c2478e9628522d40f3cabb",
            "1bd9636db66840ad8dd1fbb903904d7b",
            "dd1d703a093b49828ef3198cf1243ca0"
          ]
        },
        "id": "LIlokI6oJS4l",
        "outputId": "1a1c6d77-ab0e-4a2d-b0ff-d75db350f0cf"
      },
      "execution_count": null,
      "outputs": [
        {
          "output_type": "display_data",
          "data": {
            "text/plain": [
              "interactive(children=(FloatSlider(value=0.0, description='w', max=10.0, min=-10.0), FloatSlider(value=0.0, des…"
            ],
            "application/vnd.jupyter.widget-view+json": {
              "version_major": 2,
              "version_minor": 0,
              "model_id": "baa3fa0940d345dd9afe702b7b700799"
            }
          },
          "metadata": {}
        }
      ]
    }
  ]
}